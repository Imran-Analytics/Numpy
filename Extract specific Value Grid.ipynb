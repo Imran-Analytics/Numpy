{
 "cells": [
  {
   "cell_type": "code",
   "execution_count": 9,
   "id": "b80b7b14-8f4c-4243-8995-5c519b6504b0",
   "metadata": {},
   "outputs": [
    {
     "data": {
      "text/plain": [
       "array([[3, 5, 1, 1],\n",
       "       [5, 2, 8, 4],\n",
       "       [1, 3, 2, 3]], dtype=int32)"
      ]
     },
     "execution_count": 9,
     "metadata": {},
     "output_type": "execute_result"
    }
   ],
   "source": [
    "import numpy as np\n",
    "\n",
    "arr = np.random.randint(1,9, size = (3,4))\n",
    "\n",
    "arr"
   ]
  },
  {
   "cell_type": "code",
   "execution_count": 11,
   "id": "88fa364e-4b7f-41a7-bcbd-45756d5b18ed",
   "metadata": {},
   "outputs": [
    {
     "data": {
      "text/plain": [
       "np.int32(8)"
      ]
     },
     "execution_count": 11,
     "metadata": {},
     "output_type": "execute_result"
    }
   ],
   "source": [
    "arr[1,2]"
   ]
  },
  {
   "cell_type": "code",
   "execution_count": 16,
   "id": "8c5f740e-c062-4b5a-9893-402ed9ca8805",
   "metadata": {},
   "outputs": [
    {
     "data": {
      "text/plain": [
       "np.int64(11)"
      ]
     },
     "execution_count": 16,
     "metadata": {},
     "output_type": "execute_result"
    }
   ],
   "source": [
    "arr[:,2].sum(axis = 0)"
   ]
  },
  {
   "cell_type": "code",
   "execution_count": 13,
   "id": "6372d509-9c25-46ae-8159-215e005acf16",
   "metadata": {},
   "outputs": [
    {
     "data": {
      "text/plain": [
       "np.int64(11)"
      ]
     },
     "execution_count": 13,
     "metadata": {},
     "output_type": "execute_result"
    }
   ],
   "source": [
    "arr[:,-2].sum()"
   ]
  },
  {
   "cell_type": "code",
   "execution_count": 17,
   "id": "5f056be0-addb-49b8-bc81-f50688c64f0c",
   "metadata": {},
   "outputs": [
    {
     "data": {
      "text/plain": [
       "np.int64(19)"
      ]
     },
     "execution_count": 17,
     "metadata": {},
     "output_type": "execute_result"
    }
   ],
   "source": [
    "arr[1,:].sum()"
   ]
  },
  {
   "cell_type": "code",
   "execution_count": 34,
   "id": "049261c1-73f6-4091-b648-f18f00a83ae2",
   "metadata": {},
   "outputs": [
    {
     "data": {
      "text/plain": [
       "array([10, 11])"
      ]
     },
     "execution_count": 34,
     "metadata": {},
     "output_type": "execute_result"
    }
   ],
   "source": [
    "arr[:,[1,2]].sum(axis = 0)"
   ]
  },
  {
   "cell_type": "code",
   "execution_count": 37,
   "id": "f76f587a-e30c-4dab-a3f9-98e0dd4e52a8",
   "metadata": {},
   "outputs": [
    {
     "data": {
      "text/plain": [
       "np.int64(10)"
      ]
     },
     "execution_count": 37,
     "metadata": {},
     "output_type": "execute_result"
    }
   ],
   "source": [
    "arr[1,[1,2]].sum()"
   ]
  },
  {
   "cell_type": "code",
   "execution_count": 46,
   "id": "9cebf565-9480-42be-99cb-61c972176d39",
   "metadata": {},
   "outputs": [
    {
     "data": {
      "text/plain": [
       "np.int64(15)"
      ]
     },
     "execution_count": 46,
     "metadata": {},
     "output_type": "execute_result"
    }
   ],
   "source": [
    "arr[1:3,[1,2]].sum()"
   ]
  },
  {
   "cell_type": "code",
   "execution_count": null,
   "id": "8cc86dbb-b7fd-48c1-a1e7-c049e065fc1c",
   "metadata": {},
   "outputs": [],
   "source": []
  }
 ],
 "metadata": {
  "kernelspec": {
   "display_name": "Python 3 (ipykernel)",
   "language": "python",
   "name": "python3"
  },
  "language_info": {
   "codemirror_mode": {
    "name": "ipython",
    "version": 3
   },
   "file_extension": ".py",
   "mimetype": "text/x-python",
   "name": "python",
   "nbconvert_exporter": "python",
   "pygments_lexer": "ipython3",
   "version": "3.13.5"
  }
 },
 "nbformat": 4,
 "nbformat_minor": 5
}
