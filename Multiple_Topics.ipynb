{
 "cells": [
  {
   "cell_type": "markdown",
   "id": "47853c27-f01e-4b3c-85af-eeb784a092b0",
   "metadata": {},
   "source": [
    "**Slicing"
   ]
  },
  {
   "cell_type": "code",
   "execution_count": null,
   "id": "bec6ad58-e6d5-47e3-98ad-7651bbd0dfda",
   "metadata": {},
   "outputs": [],
   "source": [
    "import numpy as np\n",
    "\n",
    "arr = np.random.randint(1,9, size = (3,4))\n",
    "\n",
    "arr"
   ]
  },
  {
   "cell_type": "code",
   "execution_count": 11,
   "id": "88fa364e-4b7f-41a7-bcbd-45756d5b18ed",
   "metadata": {},
   "outputs": [
    {
     "data": {
      "text/plain": [
       "np.int32(8)"
      ]
     },
     "execution_count": 11,
     "metadata": {},
     "output_type": "execute_result"
    }
   ],
   "source": [
    "arr[1,2]"
   ]
  },
  {
   "cell_type": "code",
   "execution_count": 16,
   "id": "8c5f740e-c062-4b5a-9893-402ed9ca8805",
   "metadata": {},
   "outputs": [
    {
     "data": {
      "text/plain": [
       "np.int64(11)"
      ]
     },
     "execution_count": 16,
     "metadata": {},
     "output_type": "execute_result"
    }
   ],
   "source": [
    "arr[:,2].sum(axis = 0)"
   ]
  },
  {
   "cell_type": "code",
   "execution_count": 13,
   "id": "6372d509-9c25-46ae-8159-215e005acf16",
   "metadata": {},
   "outputs": [
    {
     "data": {
      "text/plain": [
       "np.int64(11)"
      ]
     },
     "execution_count": 13,
     "metadata": {},
     "output_type": "execute_result"
    }
   ],
   "source": [
    "arr[:,-2].sum()"
   ]
  },
  {
   "cell_type": "code",
   "execution_count": 17,
   "id": "5f056be0-addb-49b8-bc81-f50688c64f0c",
   "metadata": {},
   "outputs": [
    {
     "data": {
      "text/plain": [
       "np.int64(19)"
      ]
     },
     "execution_count": 17,
     "metadata": {},
     "output_type": "execute_result"
    }
   ],
   "source": [
    "arr[1,:].sum()"
   ]
  },
  {
   "cell_type": "code",
   "execution_count": 34,
   "id": "049261c1-73f6-4091-b648-f18f00a83ae2",
   "metadata": {},
   "outputs": [
    {
     "data": {
      "text/plain": [
       "array([10, 11])"
      ]
     },
     "execution_count": 34,
     "metadata": {},
     "output_type": "execute_result"
    }
   ],
   "source": [
    "arr[:,[1,2]].sum(axis = 0)"
   ]
  },
  {
   "cell_type": "code",
   "execution_count": 37,
   "id": "f76f587a-e30c-4dab-a3f9-98e0dd4e52a8",
   "metadata": {},
   "outputs": [
    {
     "data": {
      "text/plain": [
       "np.int64(10)"
      ]
     },
     "execution_count": 37,
     "metadata": {},
     "output_type": "execute_result"
    }
   ],
   "source": [
    "arr[1,[1,2]].sum()"
   ]
  },
  {
   "cell_type": "code",
   "execution_count": 46,
   "id": "9cebf565-9480-42be-99cb-61c972176d39",
   "metadata": {},
   "outputs": [
    {
     "data": {
      "text/plain": [
       "np.int64(15)"
      ]
     },
     "execution_count": 46,
     "metadata": {},
     "output_type": "execute_result"
    }
   ],
   "source": [
    "arr[1:3,[1,2]].sum()"
   ]
  },
  {
   "cell_type": "markdown",
   "id": "9112cbbd-4e77-422a-a095-98e162a16ee8",
   "metadata": {},
   "source": [
    "##Multiplication"
   ]
  },
  {
   "cell_type": "code",
   "execution_count": 15,
   "id": "0b8d1528-b4c6-4b3b-bcc1-edc1ec91ce7a",
   "metadata": {},
   "outputs": [
    {
     "data": {
      "text/plain": [
       "array([ 0,  4,  8, 12, 16, 20, 24, 28, 32, 36, 40, 44, 48, 52, 56, 60, 64,\n",
       "       68, 72, 76, 80, 84, 88, 92, 96])"
      ]
     },
     "execution_count": 15,
     "metadata": {},
     "output_type": "execute_result"
    }
   ],
   "source": [
    "arr = np.arange(0,100,4)\n",
    "arr"
   ]
  },
  {
   "cell_type": "code",
   "execution_count": 33,
   "id": "82a73e2c-d849-4f77-9789-a9332d9a179b",
   "metadata": {},
   "outputs": [
    {
     "data": {
      "text/plain": [
       "array([[[0.92084773, 0.94939578],\n",
       "        [0.84473462, 0.23878655],\n",
       "        [0.89438051, 0.60813803]],\n",
       "\n",
       "       [[0.84476253, 0.93190994],\n",
       "        [0.28589071, 0.25592723],\n",
       "        [0.81588486, 0.85970284]]])"
      ]
     },
     "execution_count": 33,
     "metadata": {},
     "output_type": "execute_result"
    }
   ],
   "source": [
    "arr1=np.random.random((2,3,2))\n",
    "arr1"
   ]
  },
  {
   "cell_type": "code",
   "execution_count": 60,
   "id": "8910fff9-c69b-440b-b5a4-26b39bf90bd7",
   "metadata": {},
   "outputs": [
    {
     "data": {
      "text/plain": [
       "array([[13, 68, 59,  4],\n",
       "       [79, 70, 63, 19],\n",
       "       [79,  8, 20, 10]], dtype=int32)"
      ]
     },
     "execution_count": 60,
     "metadata": {},
     "output_type": "execute_result"
    }
   ],
   "source": [
    "mul1 = np.random.randint(1,100,size=(3,4))\n",
    "mul1"
   ]
  },
  {
   "cell_type": "code",
   "execution_count": 61,
   "id": "312bac4b-30b9-4dda-96c6-61ac65ef2f71",
   "metadata": {},
   "outputs": [
    {
     "data": {
      "text/plain": [
       "array([[ 19, 108,  38, 151, 173],\n",
       "       [134, 155, 131,  26, 162],\n",
       "       [178, 115, 125, 162,  12],\n",
       "       [ 83, 191, 146,  15, 172]], dtype=int32)"
      ]
     },
     "execution_count": 61,
     "metadata": {},
     "output_type": "execute_result"
    }
   ],
   "source": [
    "mul2 = np.random.randint(10,200,size=(4,5))\n",
    "mul2"
   ]
  },
  {
   "cell_type": "code",
   "execution_count": 63,
   "id": "1e36f615-30c5-4fe6-a6d6-0e5ff7f3cb49",
   "metadata": {},
   "outputs": [
    {
     "data": {
      "text/plain": [
       "array([[20193, 19493, 17361, 13349, 14661],\n",
       "       [23672, 30256, 22821, 24240, 29031],\n",
       "       [ 6963, 13982,  8010, 15527, 16923]], dtype=int32)"
      ]
     },
     "execution_count": 63,
     "metadata": {},
     "output_type": "execute_result"
    }
   ],
   "source": [
    "np.matmul(mul1,mul2)"
   ]
  },
  {
   "cell_type": "code",
   "execution_count": 84,
   "id": "da11f83c-e526-4021-9b73-7a5b7fc56af8",
   "metadata": {},
   "outputs": [
    {
     "data": {
      "text/plain": [
       "array([[ 4,  9, 14, 19, 24],\n",
       "       [29, 34, 39, 44, 49],\n",
       "       [54, 59, 64, 69, 74],\n",
       "       [79, 84, 89, 94, 99]])"
      ]
     },
     "execution_count": 84,
     "metadata": {},
     "output_type": "execute_result"
    }
   ],
   "source": [
    "con1 = np.arange(4,100,5).reshape(4,5)\n",
    "con1"
   ]
  },
  {
   "cell_type": "code",
   "execution_count": 78,
   "id": "4c1fc077-be1c-4550-a6e0-1dbcaf9f5dda",
   "metadata": {},
   "outputs": [
    {
     "data": {
      "text/plain": [
       "array([[ 0,  4,  8, 12, 16],\n",
       "       [20, 24, 28, 32, 36],\n",
       "       [40, 44, 48, 52, 56],\n",
       "       [60, 64, 68, 72, 76],\n",
       "       [80, 84, 88, 92, 96]])"
      ]
     },
     "execution_count": 78,
     "metadata": {},
     "output_type": "execute_result"
    }
   ],
   "source": [
    "con2 = np.arange(0,100,4).reshape(5,5)\n",
    "con2"
   ]
  },
  {
   "cell_type": "code",
   "execution_count": 92,
   "id": "a5fae1c4-6f7a-40ed-b8bc-3afbbae6686c",
   "metadata": {},
   "outputs": [
    {
     "data": {
      "text/plain": [
       "array([[ 4,  9, 14, 19, 24],\n",
       "       [29, 34, 39, 44, 49],\n",
       "       [54, 59, 64, 69, 74],\n",
       "       [79, 84, 89, 94, 99],\n",
       "       [ 0,  4,  8, 12, 16],\n",
       "       [20, 24, 28, 32, 36],\n",
       "       [40, 44, 48, 52, 56],\n",
       "       [60, 64, 68, 72, 76],\n",
       "       [80, 84, 88, 92, 96]])"
      ]
     },
     "execution_count": 92,
     "metadata": {},
     "output_type": "execute_result"
    }
   ],
   "source": [
    "con = np.concatenate((con1,con2),axis = 0)"
   ]
  },
  {
   "cell_type": "code",
   "execution_count": 94,
   "id": "d55f67db-fbba-4216-8ffc-1df2919c6111",
   "metadata": {},
   "outputs": [
    {
     "data": {
      "text/plain": [
       "np.int64(48)"
      ]
     },
     "execution_count": 94,
     "metadata": {},
     "output_type": "execute_result"
    }
   ],
   "source": [
    "con[6,2]"
   ]
  },
  {
   "cell_type": "code",
   "execution_count": 103,
   "id": "a7ca660b-395c-467f-8e91-57022dc785b3",
   "metadata": {},
   "outputs": [
    {
     "data": {
      "text/plain": [
       "array([94, 99])"
      ]
     },
     "execution_count": 103,
     "metadata": {},
     "output_type": "execute_result"
    }
   ],
   "source": [
    "fil = con1>90\n",
    "con1[fil]"
   ]
  },
  {
   "cell_type": "code",
   "execution_count": 120,
   "id": "e2a9aaa1-f9a6-46f7-8ab5-f352540aa4b8",
   "metadata": {},
   "outputs": [
    {
     "data": {
      "text/plain": [
       "array([[ 0,  2,  4],\n",
       "       [ 6,  8, 10]])"
      ]
     },
     "execution_count": 120,
     "metadata": {},
     "output_type": "execute_result"
    }
   ],
   "source": [
    "tran = np.arange(0,12,2).reshape(2,3)\n",
    "tran"
   ]
  },
  {
   "cell_type": "code",
   "execution_count": 122,
   "id": "60940902-2c7c-4331-a86d-5f02367ffc29",
   "metadata": {},
   "outputs": [
    {
     "data": {
      "text/plain": [
       "array([[ 0,  6],\n",
       "       [ 2,  8],\n",
       "       [ 4, 10]])"
      ]
     },
     "execution_count": 122,
     "metadata": {},
     "output_type": "execute_result"
    }
   ],
   "source": [
    "np.transpose(tran)"
   ]
  },
  {
   "cell_type": "code",
   "execution_count": 126,
   "id": "8634ef84-6693-4cbb-af21-59bb69aa599d",
   "metadata": {},
   "outputs": [
    {
     "data": {
      "text/plain": [
       "array([[ 0,  5, 10, 15, 20],\n",
       "       [25, 30, 35, 40, 45],\n",
       "       [50, 55, 60, 65, 70],\n",
       "       [75, 80, 85, 90, 95]])"
      ]
     },
     "execution_count": 126,
     "metadata": {},
     "output_type": "execute_result"
    }
   ],
   "source": [
    "res = np.arange(0,100,5).reshape(4,5)\n",
    "res"
   ]
  },
  {
   "cell_type": "code",
   "execution_count": 129,
   "id": "121a6eeb-650b-4f7d-aaef-f0cc5d0166f4",
   "metadata": {},
   "outputs": [
    {
     "data": {
      "text/plain": [
       "array([[ 5, 10, 15, 20],\n",
       "       [30, 35, 40, 45],\n",
       "       [55, 60, 65, 70],\n",
       "       [80, 85, 90, 95]])"
      ]
     },
     "execution_count": 129,
     "metadata": {},
     "output_type": "execute_result"
    }
   ],
   "source": [
    "res[0:4,1:]"
   ]
  },
  {
   "cell_type": "code",
   "execution_count": null,
   "id": "972c2eb6-a212-44c6-a058-63f75cbd7980",
   "metadata": {},
   "outputs": [],
   "source": []
  }
 ],
 "metadata": {
  "kernelspec": {
   "display_name": "Python 3 (ipykernel)",
   "language": "python",
   "name": "python3"
  },
  "language_info": {
   "codemirror_mode": {
    "name": "ipython",
    "version": 3
   },
   "file_extension": ".py",
   "mimetype": "text/x-python",
   "name": "python",
   "nbconvert_exporter": "python",
   "pygments_lexer": "ipython3",
   "version": "3.13.5"
  }
 },
 "nbformat": 4,
 "nbformat_minor": 5
}
